{
  "nbformat": 4,
  "nbformat_minor": 0,
  "metadata": {
    "colab": {
      "provenance": [],
      "authorship_tag": "ABX9TyPy9Ard+DJb0TKfl5r28n3N",
      "include_colab_link": true
    },
    "kernelspec": {
      "name": "python3",
      "display_name": "Python 3"
    },
    "language_info": {
      "name": "python"
    }
  },
  "cells": [
    {
      "cell_type": "markdown",
      "metadata": {
        "id": "view-in-github",
        "colab_type": "text"
      },
      "source": [
        "<a href=\"https://colab.research.google.com/github/Pranav169-cyber/Codsoft-Internship/blob/main/Task_1.ipynb\" target=\"_parent\"><img src=\"https://colab.research.google.com/assets/colab-badge.svg\" alt=\"Open In Colab\"/></a>"
      ]
    },
    {
      "cell_type": "code",
      "execution_count": 1,
      "metadata": {
        "id": "5ZmPIgMWLjia",
        "colab": {
          "base_uri": "https://localhost:8080/"
        },
        "outputId": "53863e86-0515-49e7-8737-2dd38c6546fa"
      },
      "outputs": [
        {
          "output_type": "stream",
          "name": "stdout",
          "text": [
            "To-Do List Menu:\n",
            "1. Add Task\n",
            "2. View Tasks\n",
            "3. Mark Task as Completed\n",
            "4. Delete Task\n",
            "5. Exit\n",
            "Choose an option (1-5): 2\n",
            "No tasks in the list.\n",
            "To-Do List Menu:\n",
            "1. Add Task\n",
            "2. View Tasks\n",
            "3. Mark Task as Completed\n",
            "4. Delete Task\n",
            "5. Exit\n",
            "Choose an option (1-5): 1\n",
            "Enter the task: Shopping\n",
            "Task 'Shopping' added.\n",
            "To-Do List Menu:\n",
            "1. Add Task\n",
            "2. View Tasks\n",
            "3. Mark Task as Completed\n",
            "4. Delete Task\n",
            "5. Exit\n",
            "Choose an option (1-5): 5\n",
            "Exiting the To-Do List application.\n"
          ]
        }
      ],
      "source": [
        "# Simple To-Do List program in Python\n",
        "\n",
        "class TodoList:\n",
        "    def __init__(self):\n",
        "        self.tasks = []\n",
        "\n",
        "    def add_task(self, task):\n",
        "        \"\"\"Adds a new task to the list.\"\"\"\n",
        "        self.tasks.append({\"task\": task, \"completed\": False})\n",
        "        print(f\"Task '{task}' added.\")\n",
        "\n",
        "    def view_tasks(self):\n",
        "        \"\"\"Displays all tasks.\"\"\"\n",
        "        if not self.tasks:\n",
        "            print(\"No tasks in the list.\")\n",
        "        else:\n",
        "            print(\"\\nTo-Do List:\")\n",
        "            for idx, task in enumerate(self.tasks, 1):\n",
        "                status = \"Completed\" if task[\"completed\"] else \"Pending\"\n",
        "                print(f\"{idx}. {task['task']} - {status}\")\n",
        "            print()\n",
        "\n",
        "    def mark_completed(self, task_id):\n",
        "        \"\"\"Marks a task as completed.\"\"\"\n",
        "        if 1 <= task_id <= len(self.tasks):\n",
        "            self.tasks[task_id - 1][\"completed\"] = True\n",
        "            print(f\"Task {task_id} marked as completed.\")\n",
        "        else:\n",
        "            print(\"Invalid task ID.\")\n",
        "\n",
        "    def delete_task(self, task_id):\n",
        "        \"\"\"Deletes a task.\"\"\"\n",
        "        if 1 <= task_id <= len(self.tasks):\n",
        "            deleted_task = self.tasks.pop(task_id - 1)\n",
        "            print(f\"Task '{deleted_task['task']}' deleted.\")\n",
        "        else:\n",
        "            print(\"Invalid task ID.\")\n",
        "\n",
        "def main():\n",
        "    todo_list = TodoList()\n",
        "\n",
        "    while True:\n",
        "        print(\"To-Do List Menu:\")\n",
        "        print(\"1. Add Task\")\n",
        "        print(\"2. View Tasks\")\n",
        "        print(\"3. Mark Task as Completed\")\n",
        "        print(\"4. Delete Task\")\n",
        "        print(\"5. Exit\")\n",
        "\n",
        "        choice = input(\"Choose an option (1-5): \")\n",
        "\n",
        "        if choice == \"1\":\n",
        "            task = input(\"Enter the task: \")\n",
        "            todo_list.add_task(task)\n",
        "        elif choice == \"2\":\n",
        "            todo_list.view_tasks()\n",
        "        elif choice == \"3\":\n",
        "            todo_list.view_tasks()\n",
        "            try:\n",
        "                task_id = int(input(\"Enter the task ID to mark as completed: \"))\n",
        "                todo_list.mark_completed(task_id)\n",
        "            except ValueError:\n",
        "                print(\"Invalid input. Please enter a valid task ID.\")\n",
        "        elif choice == \"4\":\n",
        "            todo_list.view_tasks()\n",
        "            try:\n",
        "                task_id = int(input(\"Enter the task ID to delete: \"))\n",
        "                todo_list.delete_task(task_id)\n",
        "            except ValueError:\n",
        "                print(\"Invalid input. Please enter a valid task ID.\")\n",
        "        elif choice == \"5\":\n",
        "            print(\"Exiting the To-Do List application.\")\n",
        "            break\n",
        "        else:\n",
        "            print(\"Invalid option. Please choose a valid option.\")\n",
        "\n",
        "if __name__ == \"__main__\":\n",
        "    main()\n"
      ]
    }
  ]
}