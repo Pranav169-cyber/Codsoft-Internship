{
  "nbformat": 4,
  "nbformat_minor": 0,
  "metadata": {
    "colab": {
      "provenance": [],
      "authorship_tag": "ABX9TyNSDyQ8yJYPZp36TtYFIm0x",
      "include_colab_link": true
    },
    "kernelspec": {
      "name": "python3",
      "display_name": "Python 3"
    },
    "language_info": {
      "name": "python"
    }
  },
  "cells": [
    {
      "cell_type": "markdown",
      "metadata": {
        "id": "view-in-github",
        "colab_type": "text"
      },
      "source": [
        "<a href=\"https://colab.research.google.com/github/Pranav169-cyber/Codsoft-Internship/blob/main/Task_2.ipynb\" target=\"_parent\"><img src=\"https://colab.research.google.com/assets/colab-badge.svg\" alt=\"Open In Colab\"/></a>"
      ]
    },
    {
      "cell_type": "code",
      "execution_count": 1,
      "metadata": {
        "id": "_M6xar3tLtle",
        "outputId": "845445c9-372e-4b64-a143-8807348dc46c",
        "colab": {
          "base_uri": "https://localhost:8080/"
        }
      },
      "outputs": [
        {
          "output_type": "stream",
          "name": "stdout",
          "text": [
            "Enter the first number: 20\n",
            "Enter the second number: 42\n",
            "Enter the operation (+, -, *, /): +\n",
            "Result: 62.0\n"
          ]
        }
      ],
      "source": [
        "def calculator():\n",
        "\n",
        "\n",
        "    try:\n",
        "        num1 = float(input(\"Enter the first number: \"))\n",
        "        num2 = float(input(\"Enter the second number: \"))\n",
        "        operation = input(\"Enter the operation (+, -, *, /): \")\n",
        "\n",
        "        if operation == '+':\n",
        "            result = num1 + num2\n",
        "        elif operation == '-':\n",
        "            result = num1 - num2\n",
        "        elif operation == '*':\n",
        "            result = num1 * num2\n",
        "        elif operation == '/':\n",
        "            if num2 == 0:\n",
        "                print(\"Error: Division by zero\")\n",
        "                return\n",
        "            result = num1 / num2\n",
        "        else:\n",
        "            print(\"Invalid operation\")\n",
        "            return\n",
        "\n",
        "        print(f\"Result: {result}\")\n",
        "\n",
        "    except ValueError:\n",
        "        print(\"Invalid input. Please enter numbers only.\")\n",
        "\n",
        "if __name__ == \"__main__\":\n",
        "    calculator()"
      ]
    }
  ]
}